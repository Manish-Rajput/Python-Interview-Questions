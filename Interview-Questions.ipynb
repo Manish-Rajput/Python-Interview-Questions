{
 "cells": [
  {
   "cell_type": "markdown",
   "id": "f5b1f78c",
   "metadata": {},
   "source": [
    "### Q1. Which coding convention is preferred for Python ?\n",
    "Ans. PEP-8. PEP stands for Python Enhancement Proposal.\n",
    "<br>\n",
    "\n",
    "## Q2. What are the immutable builtin datatypes available in Python?\n",
    "* int\n",
    "* float\n",
    "* None\n",
    "* Boolean\n",
    "* string\n",
    "* tuple\n",
    "\n",
    "### Q3. What are decorators in Python?\n",
    "Ans. Decorators in Python are essentially functions that add functionality to an existing function in Python without changing the structure of the function itself. They are represented by the @decorator_name in Python.<br>\n",
    "\n",
    "For example, check below code:-"
   ]
  },
  {
   "cell_type": "code",
   "execution_count": 2,
   "id": "1d5c46ac",
   "metadata": {},
   "outputs": [
    {
     "name": "stdout",
     "output_type": "stream",
     "text": [
      "['hello', 'world']\n"
     ]
    }
   ],
   "source": [
    "# decorator function to convert to lowercase\n",
    "def lowercase_decorator(function):\n",
    "    def wrapper():\n",
    "        func = function()\n",
    "        string_lowercase = func.lower()\n",
    "        return string_lowercase\n",
    "    return wrapper\n",
    "\n",
    "# decorator function to split words\n",
    "def splitter_decorator(function):\n",
    "    def wrapper():\n",
    "        func = function()\n",
    "        string_split = func.split()\n",
    "        return string_split\n",
    "    return wrapper\n",
    "\n",
    "@splitter_decorator     # this is executed next\n",
    "@lowercase_decorator    # this is executed first\n",
    "def hello():\n",
    "    return 'Hello World'\n",
    "\n",
    "print(hello())"
   ]
  },
  {
   "cell_type": "markdown",
   "id": "b59b689a",
   "metadata": {},
   "source": [
    "### Q4. What is lambda in Python? Why is it used?\n",
    "\n",
    "Ans. Lambda is an anonymous function in Python, that can accept any number of arguments, but can only have a single expression. It is generally used in situations requiring an anonymous function for a short time period.\n",
    "\n",
    "### Q5. What are generators in Python?\n",
    "Ans. Generators are functions that return an iterable collection of items, one at a time, in a set manner. They employ the use of yield keyword rather than return to return a generator object."
   ]
  },
  {
   "cell_type": "markdown",
   "id": "b142d34b",
   "metadata": {},
   "source": [
    "### Q6. What is PYTHONPATH in Python?\n",
    "\n",
    "Ans. PYTHONPATH is an environment variable which you can set to add additional directories where Python will look for modules and packages. This is especially useful in maintaining Python libraries that you do not wish to install in the global default location."
   ]
  },
  {
   "cell_type": "markdown",
   "id": "841f65c2",
   "metadata": {},
   "source": [
    "### Q7. What is the use of help() and dir() functions?\n",
    "\n",
    "Ans. help() function in Python is used to display the documentation of modules, classes, functions, keywords, etc. If no parameter is passed to the help() function, then an interactive help utility is launched on the console.\n",
    "<br>\n",
    "<br>\n",
    "dir() function tries to return a valid list of attributes and methods of the object it is called upon. It behaves differently with different objects, as it aims to produce the most relevant data, rather than the complete information."
   ]
  },
  {
   "cell_type": "markdown",
   "id": "4237dcd6",
   "metadata": {},
   "source": [
    "### Q8. What is pickling and unpickling?\n",
    "\n",
    "Ans. Python library offers a feature - serialization out of the box. Serializing a object refers to transforming it into a format that can be stored, so as to be able to deserialize it later on, to obtain the original object. Here, the pickle module comes into play.<br>\n",
    "<br>\n",
    "**Pickling**<br>\n",
    "Pickling is the name of the serialization process in Python. Any object in Python can be serialized into a byte stream and dumped as a file in the memory. The process of pickling is compact but pickle objects can be compressed further. Moreover, pickle keeps track of the objects it has serialized and the serialization is portable across versions.<br>\n",
    "The function used for the above process is pickle.dump().\n",
    "<br>\n",
    "<br>\n",
    "**Unpickling**<br>\n",
    "Unpickling is the complete inverse of pickling. It deserializes the byte stream to recreate the objects stored in the file, and loads the object to memory.\n",
    "The function used for the above process is pickle.load()."
   ]
  },
  {
   "cell_type": "markdown",
   "id": "2ac06665",
   "metadata": {},
   "source": [
    "### Q9. What does *args and **kwargs mean?\n",
    "\n",
    "Ans. *args is a special syntax used in function definition to pass variable-length argument.<br>\n",
    "     “*” means variable length and “args” is the name used by convention. can be used any other name instead of args.    \n",
    "<br>\n",
    "<br>\n",
    "** kwargs\n",
    "\n",
    "** kwargs is a special syntax used in function definition to pass variable-length keyworded argument.<br>\n",
    "   Here, also, “kwargs” is used just by convention. You can use any other name.<br>\n",
    "   Keyworded argument means a variable which has a name when passed to a function.<br>\n",
    "   It is actually a dictionary of variable name and its value.<br>\n"
   ]
  },
  {
   "cell_type": "markdown",
   "id": "a4e20c0a",
   "metadata": {},
   "source": [
    "### Q10. What is meant by namespace?\n",
    "Ans.  namespace refers to a naming system that is used to ensure that all object names in a Python program are unique, to avoid any conflicts. In Python, these namespaces are implemented as dictionaries with ‘name as key’ mapped to a corresponding ‘object as value."
   ]
  },
  {
   "cell_type": "markdown",
   "id": "429f6f86",
   "metadata": {},
   "source": [
    "### Q11. Does Python have a main() function?\n",
    "\n",
    "Ans. Yes, it does. It is executed automatically whenever we run a Python script. To override this natural flow of things, we can also use the if statement."
   ]
  },
  {
   "cell_type": "markdown",
   "id": "1ef2b992",
   "metadata": {},
   "source": [
    "### Q12. What is GIL?\n",
    "Ans. GIL or the Global Interpreter Lock is a mutex, used to limit access to Python objects. It synchronizes threads and prevents them from running at the same time."
   ]
  },
  {
   "cell_type": "markdown",
   "id": "1978cea5",
   "metadata": {},
   "source": [
    "### Q13. What are the key features of Python?\n",
    "\n",
    "* Interpreted\n",
    "* Dynamically-typed\n",
    "* Object-oriented\n",
    "* English-like syntax"
   ]
  },
  {
   "cell_type": "markdown",
   "id": "e9800bd6",
   "metadata": {},
   "source": [
    "### Q14. If you have dictionary like this – > fruit={“Apple”:10,”Orange”:20,”Banana”:30,”Guava”:40}. How would you update the value of ‘Apple’ from 10 to 100?"
   ]
  },
  {
   "cell_type": "code",
   "execution_count": 1,
   "id": "d46009ff",
   "metadata": {},
   "outputs": [
    {
     "data": {
      "text/plain": [
       "{'Apple': 100, 'Orange': 20, 'Banana': 30, 'Guava': 40}"
      ]
     },
     "execution_count": 1,
     "metadata": {},
     "output_type": "execute_result"
    }
   ],
   "source": [
    "fruit = {\"Apple\":10,\"Orange\":20,\"Banana\":30,\"Guava\":40}\n",
    "fruit[\"Apple\"] = 100\n",
    "fruit"
   ]
  },
  {
   "cell_type": "markdown",
   "id": "15c17007",
   "metadata": {},
   "source": [
    "### Q15. How can you get a random number in python?\n",
    "\n",
    "Ans. To generate a random, we use a random module of python."
   ]
  },
  {
   "cell_type": "markdown",
   "id": "9f246315",
   "metadata": {},
   "source": [
    "### Q16. What is pandas groupby?\n",
    "Ans. A pandas groupby is a feature supported by pandas which is used to split and group an object.<br>\n",
    "Example:-"
   ]
  },
  {
   "cell_type": "code",
   "execution_count": 3,
   "id": "e5db5d9b",
   "metadata": {},
   "outputs": [
    {
     "data": {
      "text/html": [
       "<div>\n",
       "<style scoped>\n",
       "    .dataframe tbody tr th:only-of-type {\n",
       "        vertical-align: middle;\n",
       "    }\n",
       "\n",
       "    .dataframe tbody tr th {\n",
       "        vertical-align: top;\n",
       "    }\n",
       "\n",
       "    .dataframe thead th {\n",
       "        text-align: right;\n",
       "    }\n",
       "</style>\n",
       "<table border=\"1\" class=\"dataframe\">\n",
       "  <thead>\n",
       "    <tr style=\"text-align: right;\">\n",
       "      <th></th>\n",
       "      <th>Vehicle</th>\n",
       "      <th>Type</th>\n",
       "    </tr>\n",
       "  </thead>\n",
       "  <tbody>\n",
       "    <tr>\n",
       "      <th>0</th>\n",
       "      <td>Etios</td>\n",
       "      <td>car</td>\n",
       "    </tr>\n",
       "    <tr>\n",
       "      <th>1</th>\n",
       "      <td>Lamborghini</td>\n",
       "      <td>car</td>\n",
       "    </tr>\n",
       "    <tr>\n",
       "      <th>2</th>\n",
       "      <td>Apache200</td>\n",
       "      <td>motorcycle</td>\n",
       "    </tr>\n",
       "    <tr>\n",
       "      <th>3</th>\n",
       "      <td>Pulsar200</td>\n",
       "      <td>motorcycle</td>\n",
       "    </tr>\n",
       "  </tbody>\n",
       "</table>\n",
       "</div>"
      ],
      "text/plain": [
       "       Vehicle        Type\n",
       "0        Etios         car\n",
       "1  Lamborghini         car\n",
       "2    Apache200  motorcycle\n",
       "3    Pulsar200  motorcycle"
      ]
     },
     "execution_count": 3,
     "metadata": {},
     "output_type": "execute_result"
    }
   ],
   "source": [
    "import pandas as pd\n",
    "df = pd.DataFrame({'Vehicle':['Etios','Lamborghini','Apache200','Pulsar200'], 'Type':[\"car\",\"car\",\"motorcycle\",\"motorcycle\"]})\n",
    "df"
   ]
  },
  {
   "cell_type": "code",
   "execution_count": 7,
   "id": "55233b50",
   "metadata": {},
   "outputs": [
    {
     "data": {
      "text/html": [
       "<div>\n",
       "<style scoped>\n",
       "    .dataframe tbody tr th:only-of-type {\n",
       "        vertical-align: middle;\n",
       "    }\n",
       "\n",
       "    .dataframe tbody tr th {\n",
       "        vertical-align: top;\n",
       "    }\n",
       "\n",
       "    .dataframe thead th {\n",
       "        text-align: right;\n",
       "    }\n",
       "</style>\n",
       "<table border=\"1\" class=\"dataframe\">\n",
       "  <thead>\n",
       "    <tr style=\"text-align: right;\">\n",
       "      <th></th>\n",
       "      <th>Vehicle</th>\n",
       "    </tr>\n",
       "    <tr>\n",
       "      <th>Type</th>\n",
       "      <th></th>\n",
       "    </tr>\n",
       "  </thead>\n",
       "  <tbody>\n",
       "    <tr>\n",
       "      <th>car</th>\n",
       "      <td>2</td>\n",
       "    </tr>\n",
       "    <tr>\n",
       "      <th>motorcycle</th>\n",
       "      <td>2</td>\n",
       "    </tr>\n",
       "  </tbody>\n",
       "</table>\n",
       "</div>"
      ],
      "text/plain": [
       "            Vehicle\n",
       "Type               \n",
       "car               2\n",
       "motorcycle        2"
      ]
     },
     "execution_count": 7,
     "metadata": {},
     "output_type": "execute_result"
    }
   ],
   "source": [
    "df.groupby('Type').count()"
   ]
  },
  {
   "cell_type": "markdown",
   "id": "b591b48d",
   "metadata": {},
   "source": [
    "### Q17. How to get a list of all the keys in a dictionary?\n",
    "Ans. we can get a list of keys is by using: dict.keys()."
   ]
  },
  {
   "cell_type": "code",
   "execution_count": 9,
   "id": "ddd69110",
   "metadata": {},
   "outputs": [
    {
     "data": {
      "text/plain": [
       "dict_keys([1, 2, 3])"
      ]
     },
     "execution_count": 9,
     "metadata": {},
     "output_type": "execute_result"
    }
   ],
   "source": [
    "dict = {1:\"a\", 2:\"b\", 3:\"c\"}\n",
    "dict.keys()"
   ]
  },
  {
   "cell_type": "markdown",
   "id": "7cd7adf5",
   "metadata": {},
   "source": [
    "### Q18. What is recursion?\n",
    "Ans. Recursion is a function calling itself one or more times in it body. One very important condition a recursive function should have to be used in a program is, it should terminate, else there would be a problem of an infinite loop."
   ]
  },
  {
   "cell_type": "markdown",
   "id": "48d47760",
   "metadata": {},
   "source": [
    "### Q19. What are the different types of operators in Python?\n",
    "\n",
    "Ans. Python has the following basic operators:<br>\n",
    "* Arithmetic( Addition(+), Substraction(-), Multiplication(*), Division(/), Modulus(%) )<br>\n",
    "* Relational ( <, >, <=, >=, ==, !=, )<br>\n",
    "* Assignment ( =. +=, -=, /=, *=, %= )<br>\n",
    "* Logical ( and, or not ), Membership, Identity, and Bitwise Operators<br>"
   ]
  },
  {
   "cell_type": "markdown",
   "id": "9dbb63d1",
   "metadata": {},
   "source": [
    "### Q20. What is the ‘with statement’?\n",
    "Ans. A file can be opened and closed while executing a block of code, containing the “with” statement., without using the close() function. It essentially makes the code much more easy to read."
   ]
  },
  {
   "cell_type": "code",
   "execution_count": null,
   "id": "d15104c4",
   "metadata": {},
   "outputs": [],
   "source": []
  }
 ],
 "metadata": {
  "kernelspec": {
   "display_name": "Python 3",
   "language": "python",
   "name": "python3"
  },
  "language_info": {
   "codemirror_mode": {
    "name": "ipython",
    "version": 3
   },
   "file_extension": ".py",
   "mimetype": "text/x-python",
   "name": "python",
   "nbconvert_exporter": "python",
   "pygments_lexer": "ipython3",
   "version": "3.8.8"
  }
 },
 "nbformat": 4,
 "nbformat_minor": 5
}
